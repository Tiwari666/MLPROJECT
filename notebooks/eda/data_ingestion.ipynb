{
 "cells": [
  {
   "cell_type": "code",
   "execution_count": 1,
   "metadata": {},
   "outputs": [],
   "source": [
    "import pandas as pd\n",
    "import numpy as np"
   ]
  },
  {
   "cell_type": "code",
   "execution_count": 2,
   "metadata": {},
   "outputs": [
    {
     "name": "stdout",
     "output_type": "stream",
     "text": [
      "Current Working Directory:  c:\\Users\\naren\\Desktop\\DS\\Projects\\MLPROJECT\\notebooks\\eda\n",
      "New Working Directory:  C:\\Users\\naren\\Desktop\\DS\\Projects\\MLPROJECT\n"
     ]
    }
   ],
   "source": [
    "import os\n",
    "\n",
    "# Print the current working directory\n",
    "print(\"Current Working Directory: \", os.getcwd())\n",
    "\n",
    "# Change the current working directory\n",
    "os.chdir('C:/Users/naren/Desktop/DS/Projects/MLPROJECT')\n",
    "print(\"New Working Directory: \", os.getcwd())"
   ]
  },
  {
   "cell_type": "code",
   "execution_count": 3,
   "metadata": {},
   "outputs": [
    {
     "data": {
      "text/html": [
       "<div>\n",
       "<style scoped>\n",
       "    .dataframe tbody tr th:only-of-type {\n",
       "        vertical-align: middle;\n",
       "    }\n",
       "\n",
       "    .dataframe tbody tr th {\n",
       "        vertical-align: top;\n",
       "    }\n",
       "\n",
       "    .dataframe thead th {\n",
       "        text-align: right;\n",
       "    }\n",
       "</style>\n",
       "<table border=\"1\" class=\"dataframe\">\n",
       "  <thead>\n",
       "    <tr style=\"text-align: right;\">\n",
       "      <th></th>\n",
       "      <th>gender</th>\n",
       "      <th>race_ethnicity</th>\n",
       "      <th>parental_level_of_education</th>\n",
       "      <th>lunch</th>\n",
       "      <th>test_preparation_course</th>\n",
       "      <th>math_score</th>\n",
       "      <th>reading_score</th>\n",
       "      <th>writing_score</th>\n",
       "    </tr>\n",
       "  </thead>\n",
       "  <tbody>\n",
       "    <tr>\n",
       "      <th>0</th>\n",
       "      <td>female</td>\n",
       "      <td>group B</td>\n",
       "      <td>bachelor's degree</td>\n",
       "      <td>standard</td>\n",
       "      <td>none</td>\n",
       "      <td>72.0</td>\n",
       "      <td>72.0</td>\n",
       "      <td>74.0</td>\n",
       "    </tr>\n",
       "    <tr>\n",
       "      <th>1</th>\n",
       "      <td>female</td>\n",
       "      <td>group C</td>\n",
       "      <td>some college</td>\n",
       "      <td>standard</td>\n",
       "      <td>completed</td>\n",
       "      <td>69.0</td>\n",
       "      <td>90.0</td>\n",
       "      <td>88.0</td>\n",
       "    </tr>\n",
       "    <tr>\n",
       "      <th>2</th>\n",
       "      <td>female</td>\n",
       "      <td>group B</td>\n",
       "      <td>master's degree</td>\n",
       "      <td>standard</td>\n",
       "      <td>none</td>\n",
       "      <td>90.0</td>\n",
       "      <td>95.0</td>\n",
       "      <td>93.0</td>\n",
       "    </tr>\n",
       "    <tr>\n",
       "      <th>3</th>\n",
       "      <td>male</td>\n",
       "      <td>group A</td>\n",
       "      <td>associate's degree</td>\n",
       "      <td>free/reduced</td>\n",
       "      <td>none</td>\n",
       "      <td>47.0</td>\n",
       "      <td>57.0</td>\n",
       "      <td>44.0</td>\n",
       "    </tr>\n",
       "    <tr>\n",
       "      <th>4</th>\n",
       "      <td>male</td>\n",
       "      <td>group C</td>\n",
       "      <td>some college</td>\n",
       "      <td>standard</td>\n",
       "      <td>none</td>\n",
       "      <td>76.0</td>\n",
       "      <td>78.0</td>\n",
       "      <td>75.0</td>\n",
       "    </tr>\n",
       "  </tbody>\n",
       "</table>\n",
       "</div>"
      ],
      "text/plain": [
       "   gender race_ethnicity parental_level_of_education         lunch  \\\n",
       "0  female        group B           bachelor's degree      standard   \n",
       "1  female        group C                some college      standard   \n",
       "2  female        group B             master's degree      standard   \n",
       "3    male        group A          associate's degree  free/reduced   \n",
       "4    male        group C                some college      standard   \n",
       "\n",
       "  test_preparation_course  math_score  reading_score  writing_score  \n",
       "0                    none        72.0           72.0           74.0  \n",
       "1               completed        69.0           90.0           88.0  \n",
       "2                    none        90.0           95.0           93.0  \n",
       "3                    none        47.0           57.0           44.0  \n",
       "4                    none        76.0           78.0           75.0  "
      ]
     },
     "execution_count": 3,
     "metadata": {},
     "output_type": "execute_result"
    }
   ],
   "source": [
    "# Define the path to the CSV file\n",
    "data_path = 'data/uncleaned/students.csv'\n",
    "\n",
    "# Load the data\n",
    "data = pd.read_csv(data_path)\n",
    "\n",
    "# Display the first few rows of the dataframe\n",
    "data.head()"
   ]
  },
  {
   "cell_type": "code",
   "execution_count": 5,
   "metadata": {},
   "outputs": [
    {
     "name": "stdout",
     "output_type": "stream",
     "text": [
      "Index(['gender', 'race_ethnicity', 'parental_level_of_education', 'lunch',\n",
      "       'test_preparation_course', 'math_score', 'reading_score',\n",
      "       'writing_score'],\n",
      "      dtype='object')\n"
     ]
    }
   ],
   "source": [
    "all_columns = data.columns\n",
    "print(all_columns)"
   ]
  },
  {
   "cell_type": "code",
   "execution_count": 11,
   "metadata": {},
   "outputs": [],
   "source": [
    "# Define the expected columns\n",
    "required_columns = ['gender', 'race_ethnicity', 'parental_level_of_education', 'lunch', 'test_preparation_course', 'math_score', 'reading_score', 'writing_score']"
   ]
  },
  {
   "cell_type": "code",
   "execution_count": 12,
   "metadata": {},
   "outputs": [
    {
     "name": "stdout",
     "output_type": "stream",
     "text": [
      "All required columns are present.\n"
     ]
    }
   ],
   "source": [
    "# Check for missing columns by comparing the required columns to the available ones\n",
    "missing_columns = [col for col in required_columns if col not in all_columns]\n",
    "if missing_columns:\n",
    "    print(f\"Missing columns: {missing_columns}\")\n",
    "else:\n",
    "    print(\"All required columns are present.\")"
   ]
  },
  {
   "cell_type": "code",
   "execution_count": 13,
   "metadata": {},
   "outputs": [
    {
     "name": "stdout",
     "output_type": "stream",
     "text": [
      "Column 'gender' is of the correct type: object.\n",
      "Column 'race_ethnicity' is of the correct type: object.\n",
      "Column 'parental_level_of_education' is of the correct type: object.\n",
      "Column 'lunch' is of the correct type: object.\n",
      "Column 'test_preparation_course' is of the correct type: object.\n",
      "Column 'math_score' is of the correct type: float64.\n",
      "Column 'reading_score' is of the correct type: float64.\n",
      "Column 'writing_score' is of the correct type: float64.\n"
     ]
    }
   ],
   "source": [
    "# Validate the data types of the columns (checking against expected types dynamically)\n",
    "expected_dtypes = {\n",
    "    'gender': 'object',\n",
    "    'race_ethnicity': 'object',\n",
    "    'parental_level_of_education': 'object',\n",
    "    'lunch': 'object',\n",
    "    'test_preparation_course': 'object',\n",
    "    'math_score': 'float64',\n",
    "    'reading_score': 'float64',\n",
    "    'writing_score': 'float64'\n",
    "}\n",
    "\n",
    "# Checking column data types\n",
    "for column in all_columns:\n",
    "    if column in expected_dtypes:\n",
    "        actual_type = data[column].dtype\n",
    "        expected_type = expected_dtypes[column]\n",
    "        if actual_type != expected_type:\n",
    "            print(f\"Column '{column}' should be of type {expected_type}, but found {actual_type}.\")\n",
    "        else:\n",
    "            print(f\"Column '{column}' is of the correct type: {expected_type}.\")"
   ]
  },
  {
   "cell_type": "code",
   "execution_count": 6,
   "metadata": {},
   "outputs": [
    {
     "name": "stdout",
     "output_type": "stream",
     "text": [
      "Columns with missing values:\n",
      "gender                         2\n",
      "race_ethnicity                 2\n",
      "parental_level_of_education    1\n",
      "lunch                          1\n",
      "math_score                     1\n",
      "reading_score                  1\n",
      "writing_score                  1\n",
      "dtype: int64\n"
     ]
    }
   ],
   "source": [
    "# Check for missing values\n",
    "missing_values = data.isnull().sum()\n",
    "if missing_values.any():\n",
    "    print(f\"Columns with missing values:\\n{missing_values[missing_values > 0]}\")\n",
    "else:\n",
    "    print(\"No missing values detected.\")"
   ]
  },
  {
   "cell_type": "code",
   "execution_count": 7,
   "metadata": {},
   "outputs": [
    {
     "name": "stdout",
     "output_type": "stream",
     "text": [
      "There are 2 duplicate rows in the data.\n"
     ]
    }
   ],
   "source": [
    "# Check for duplicates\n",
    "duplicate_rows = data.duplicated().sum()\n",
    "if duplicate_rows > 0:\n",
    "    print(f\"There are {duplicate_rows} duplicate rows in the data.\")\n",
    "else:\n",
    "    print(\"No duplicate rows found.\")"
   ]
  },
  {
   "cell_type": "code",
   "execution_count": 8,
   "metadata": {},
   "outputs": [
    {
     "name": "stdout",
     "output_type": "stream",
     "text": [
      "Unique values in 'gender': ['female' 'male' nan]\n",
      "Unique values in 'race_ethnicity': ['group B' 'group C' 'group A' 'group D' nan 'group E']\n",
      "Unique values in 'parental_level_of_education': [\"bachelor's degree\" 'some college' \"master's degree\" \"associate's degree\"\n",
      " 'high school' 'some high school' nan]\n",
      "Unique values in 'lunch': ['standard' 'free/reduced' nan]\n",
      "Unique values in 'test_preparation_course': ['none' 'completed']\n"
     ]
    }
   ],
   "source": [
    "# Check unique values for categorical columns\n",
    "categorical_cols = data.select_dtypes(include='object').columns\n",
    "for col in categorical_cols:\n",
    "    print(f\"Unique values in '{col}': {data[col].unique()}\")"
   ]
  },
  {
   "cell_type": "code",
   "execution_count": 9,
   "metadata": {},
   "outputs": [
    {
     "name": "stdout",
     "output_type": "stream",
     "text": [
      "Column 'math_score' has min value: 0.0 and max value: 100.0\n",
      "Column 'reading_score' has min value: 17.0 and max value: 100.0\n",
      "Column 'writing_score' has min value: 10.0 and max value: 100.0\n"
     ]
    }
   ],
   "source": [
    "# Check numeric columns' ranges\n",
    "numeric_cols = data.select_dtypes(include='number').columns\n",
    "for col in numeric_cols:\n",
    "    min_value = data[col].min()\n",
    "    max_value = data[col].max()\n",
    "    print(f\"Column '{col}' has min value: {min_value} and max value: {max_value}\")"
   ]
  },
  {
   "cell_type": "code",
   "execution_count": 10,
   "metadata": {},
   "outputs": [
    {
     "name": "stdout",
     "output_type": "stream",
     "text": [
      "Data has 1002 rows and 8 columns.\n"
     ]
    }
   ],
   "source": [
    "# Check shape of data\n",
    "print(f\"Data has {data.shape[0]} rows and {data.shape[1]} columns.\")"
   ]
  }
 ],
 "metadata": {
  "kernelspec": {
   "display_name": "venv",
   "language": "python",
   "name": "python3"
  },
  "language_info": {
   "codemirror_mode": {
    "name": "ipython",
    "version": 3
   },
   "file_extension": ".py",
   "mimetype": "text/x-python",
   "name": "python",
   "nbconvert_exporter": "python",
   "pygments_lexer": "ipython3",
   "version": "3.12.0"
  }
 },
 "nbformat": 4,
 "nbformat_minor": 2
}
